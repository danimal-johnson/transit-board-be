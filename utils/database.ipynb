{
 "cells": [
  {
   "attachments": {},
   "cell_type": "markdown",
   "metadata": {},
   "source": [
    "# Accessing info through SQLite DB\n",
    "\n",
    "Queries and example functions for utilities"
   ]
  },
  {
   "attachments": {},
   "cell_type": "markdown",
   "metadata": {},
   "source": [
    "## Connect to the DB"
   ]
  },
  {
   "cell_type": "code",
   "execution_count": 1,
   "metadata": {},
   "outputs": [],
   "source": [
    "# Create a new database\n",
    "from pathlib import Path\n",
    "# Path('my_data.db').touch() # File should already exist"
   ]
  },
  {
   "cell_type": "code",
   "execution_count": 295,
   "metadata": {},
   "outputs": [],
   "source": [
    "# Connect to the database\n",
    "import sqlite3\n",
    "conn = sqlite3.connect('my_data.db')\n",
    "c = conn.cursor()"
   ]
  },
  {
   "attachments": {},
   "cell_type": "markdown",
   "metadata": {},
   "source": [
    "## Creating the Database\n",
    "\n",
    "Information may be out of date. Current functions for doing this are in `exploring_data.ipynb`\n"
   ]
  },
  {
   "attachments": {},
   "cell_type": "markdown",
   "metadata": {},
   "source": [
    "### Dates table\n",
    "\n",
    "Maps individual dates to schedules in use."
   ]
  },
  {
   "cell_type": "code",
   "execution_count": 3,
   "metadata": {},
   "outputs": [
    {
     "data": {
      "text/plain": [
       "<sqlite3.Cursor at 0x7fe385e64b20>"
      ]
     },
     "execution_count": 3,
     "metadata": {},
     "output_type": "execute_result"
    }
   ],
   "source": [
    "# Create calendar_dates table\n",
    "c.execute('''CREATE TABLE calendar_dates (id INTEGER PRIMARY KEY, date TEXT, service_id TEXT)''')\n",
    "\n",
    "# Add \"IF NOT EXISTS\" after \"CREATE TABLE\" if we want to modify or append it in the future.\n",
    "# The types I specified here were ignored. Why?"
   ]
  },
  {
   "cell_type": "code",
   "execution_count": 43,
   "metadata": {},
   "outputs": [
    {
     "data": {
      "text/plain": [
       "275"
      ]
     },
     "execution_count": 43,
     "metadata": {},
     "output_type": "execute_result"
    }
   ],
   "source": [
    "# Load CSV data into the database\n",
    "import pandas as pd\n",
    "\n",
    "# Load the CSV file into a dataframe\n",
    "dates_df = pd.read_csv('calendar_dates.txt')\n",
    "fields_to_keep = ['date', 'service_id']\n",
    "dates_df = dates_df[fields_to_keep]\n",
    "# Write the data to a sqlite table\n",
    "dates_df.to_sql('calendar_dates', conn, if_exists='replace', index_label='id')\n",
    "\n",
    "# if_exists may be fail, replace, or append\n",
    "# index=False means don't write dataframe index column to the database table. Default is True\n",
    "# Do we need an index on a many-to-many table?"
   ]
  },
  {
   "cell_type": "code",
   "execution_count": 296,
   "metadata": {},
   "outputs": [
    {
     "ename": "NameError",
     "evalue": "name 'dates_df' is not defined",
     "output_type": "error",
     "traceback": [
      "\u001b[0;31m---------------------------------------------------------------------------\u001b[0m",
      "\u001b[0;31mNameError\u001b[0m                                 Traceback (most recent call last)",
      "\u001b[1;32m/home/dan/projects/bus_sign/utils/database.ipynb Cell 7\u001b[0m in \u001b[0;36m<cell line: 2>\u001b[0;34m()\u001b[0m\n\u001b[1;32m      <a href='vscode-notebook-cell://wsl%2Bubuntu/home/dan/projects/bus_sign/utils/database.ipynb#Y131sdnNjb2RlLXJlbW90ZQ%3D%3D?line=0'>1</a>\u001b[0m \u001b[39m# Check data in dataframe\u001b[39;00m\n\u001b[0;32m----> <a href='vscode-notebook-cell://wsl%2Bubuntu/home/dan/projects/bus_sign/utils/database.ipynb#Y131sdnNjb2RlLXJlbW90ZQ%3D%3D?line=1'>2</a>\u001b[0m dates_df\u001b[39m.\u001b[39mhead()\n",
      "\u001b[0;31mNameError\u001b[0m: name 'dates_df' is not defined"
     ]
    }
   ],
   "source": [
    "# Check data in dataframe\n",
    "dates_df.head()"
   ]
  },
  {
   "cell_type": "code",
   "execution_count": 297,
   "metadata": {},
   "outputs": [
    {
     "data": {
      "text/plain": [
       "[(0, 13105200, 20230108),\n",
       " (1, 13105300, 20230109),\n",
       " (2, 13105304, 20230109),\n",
       " (3, 13105300, 20230110),\n",
       " (4, 13105304, 20230110)]"
      ]
     },
     "execution_count": 297,
     "metadata": {},
     "output_type": "execute_result"
    }
   ],
   "source": [
    "# Check data in database\n",
    "\n",
    "c.execute('''SELECT * FROM calendar_dates LIMIT 5''').fetchall()"
   ]
  },
  {
   "cell_type": "code",
   "execution_count": 299,
   "metadata": {},
   "outputs": [
    {
     "name": "stdout",
     "output_type": "stream",
     "text": [
      "[(13105200,)]\n",
      "[(13105300,), (13105304,)]\n"
     ]
    }
   ],
   "source": [
    "# Read service_ids from database\n",
    "\n",
    "sunday = c.execute('''SELECT \"service_id\" FROM \"calendar_dates\" WHERE \"date\" = \"20230108\"''').fetchall()\n",
    "tuesday = c.execute('''SELECT \"service_id\" FROM \"calendar_dates\" WHERE \"date\" = \"20230110\"''').fetchall()\n",
    "\n",
    "# fetchall returns a list of tuples\n",
    "# Sunday returns a list of one tuple, Tuesday returns a list of two tuples\n",
    "# The data we need is from the first item in each tuple of the list\n",
    "# For example, we need to read \"tuesday[0][0]\" and tuesday[1][0]\" to get the service_ids for Tuesday\n",
    "# These values are of type integer, even though the column is of type text\n",
    "print (sunday)\n",
    "print (tuesday)\n"
   ]
  },
  {
   "attachments": {},
   "cell_type": "markdown",
   "metadata": {},
   "source": [
    "### Routes table\n",
    "\n",
    "Add table to show friendly route names to user"
   ]
  },
  {
   "cell_type": "code",
   "execution_count": null,
   "metadata": {},
   "outputs": [],
   "source": [
    "# Create routes table\n",
    "c.execute('''CREATE TABLE routes (route_id INTEGER PRIMARY KEY, route_short_name TEXT, route_long_name TEXT)''')"
   ]
  },
  {
   "cell_type": "code",
   "execution_count": 40,
   "metadata": {},
   "outputs": [
    {
     "data": {
      "text/plain": [
       "28"
      ]
     },
     "execution_count": 40,
     "metadata": {},
     "output_type": "execute_result"
    }
   ],
   "source": [
    "# Load the CSV file into a dataframe\n",
    "routes = pd.read_csv('routes.csv')\n",
    "fields_to_keep = ['route_id', 'route_short_name', 'route_long_name']\n",
    "routes = routes[fields_to_keep]\n",
    "# Write the data to a sqlite table\n",
    "routes.to_sql('routes', conn, if_exists='replace', index=False)"
   ]
  },
  {
   "cell_type": "code",
   "execution_count": 41,
   "metadata": {},
   "outputs": [
    {
     "data": {
      "text/html": [
       "<div>\n",
       "<style scoped>\n",
       "    .dataframe tbody tr th:only-of-type {\n",
       "        vertical-align: middle;\n",
       "    }\n",
       "\n",
       "    .dataframe tbody tr th {\n",
       "        vertical-align: top;\n",
       "    }\n",
       "\n",
       "    .dataframe thead th {\n",
       "        text-align: right;\n",
       "    }\n",
       "</style>\n",
       "<table border=\"1\" class=\"dataframe\">\n",
       "  <thead>\n",
       "    <tr style=\"text-align: right;\">\n",
       "      <th></th>\n",
       "      <th>route_id</th>\n",
       "      <th>route_short_name</th>\n",
       "      <th>route_long_name</th>\n",
       "    </tr>\n",
       "  </thead>\n",
       "  <tbody>\n",
       "    <tr>\n",
       "      <th>0</th>\n",
       "      <td>01</td>\n",
       "      <td>01</td>\n",
       "      <td>Campbell Center</td>\n",
       "    </tr>\n",
       "    <tr>\n",
       "      <th>1</th>\n",
       "      <td>103</td>\n",
       "      <td>EmX</td>\n",
       "      <td>EmX</td>\n",
       "    </tr>\n",
       "    <tr>\n",
       "      <th>2</th>\n",
       "      <td>11</td>\n",
       "      <td>11</td>\n",
       "      <td>Thurston</td>\n",
       "    </tr>\n",
       "    <tr>\n",
       "      <th>3</th>\n",
       "      <td>12</td>\n",
       "      <td>12</td>\n",
       "      <td>Gateway</td>\n",
       "    </tr>\n",
       "    <tr>\n",
       "      <th>4</th>\n",
       "      <td>13</td>\n",
       "      <td>13</td>\n",
       "      <td>Centennial</td>\n",
       "    </tr>\n",
       "  </tbody>\n",
       "</table>\n",
       "</div>"
      ],
      "text/plain": [
       "  route_id route_short_name  route_long_name\n",
       "0       01               01  Campbell Center\n",
       "1      103              EmX              EmX\n",
       "2       11               11         Thurston\n",
       "3       12               12          Gateway\n",
       "4       13               13       Centennial"
      ]
     },
     "execution_count": 41,
     "metadata": {},
     "output_type": "execute_result"
    }
   ],
   "source": [
    "# Test dataframe\n",
    "routes.head()"
   ]
  },
  {
   "cell_type": "code",
   "execution_count": 42,
   "metadata": {},
   "outputs": [
    {
     "data": {
      "text/plain": [
       "[('01', '01', 'Campbell Center'),\n",
       " ('103', 'EmX', 'EmX'),\n",
       " ('11', '11', 'Thurston'),\n",
       " ('12', '12', 'Gateway'),\n",
       " ('13', '13', 'Centennial')]"
      ]
     },
     "execution_count": 42,
     "metadata": {},
     "output_type": "execute_result"
    }
   ],
   "source": [
    "# Check data in database\n",
    "\n",
    "c.execute('''SELECT * FROM routes LIMIT 5''').fetchall()\n",
    "\n",
    "# We get back an array of tuples, each tuple is a row in the table"
   ]
  },
  {
   "attachments": {},
   "cell_type": "markdown",
   "metadata": {},
   "source": [
    "### Trips table\n",
    "\n",
    "Lists all trips for each route on under each service_id (schedule)\n",
    "\n",
    "5,240 entries"
   ]
  },
  {
   "cell_type": "code",
   "execution_count": null,
   "metadata": {},
   "outputs": [],
   "source": [
    "# Create trips table\n",
    "# This seems to be done automatically by pandas\n",
    "# c.execute('''CREATE TABLE trips (route_id TEXT, service_id TEXT, trip_id TEXT, trip_headsign TEXT, direction_id INTEGER)''')"
   ]
  },
  {
   "cell_type": "code",
   "execution_count": 77,
   "metadata": {},
   "outputs": [
    {
     "data": {
      "text/plain": [
       "5240"
      ]
     },
     "execution_count": 77,
     "metadata": {},
     "output_type": "execute_result"
    }
   ],
   "source": [
    "# Load the CSV file into a dataframe\n",
    "trips = pd.read_csv('trips.txt')\n",
    "fields_to_keep = ['trip_id', 'route_id', 'service_id', 'trip_headsign', 'direction_id']\n",
    "trips = trips[fields_to_keep]\n",
    "# Write the data to a sqlite table\n",
    "trips.to_sql('trips', conn, if_exists='replace', index=False, index_label='trip_id')"
   ]
  },
  {
   "cell_type": "code",
   "execution_count": 78,
   "metadata": {},
   "outputs": [
    {
     "data": {
      "text/html": [
       "<div>\n",
       "<style scoped>\n",
       "    .dataframe tbody tr th:only-of-type {\n",
       "        vertical-align: middle;\n",
       "    }\n",
       "\n",
       "    .dataframe tbody tr th {\n",
       "        vertical-align: top;\n",
       "    }\n",
       "\n",
       "    .dataframe thead th {\n",
       "        text-align: right;\n",
       "    }\n",
       "</style>\n",
       "<table border=\"1\" class=\"dataframe\">\n",
       "  <thead>\n",
       "    <tr style=\"text-align: right;\">\n",
       "      <th></th>\n",
       "      <th>trip_id</th>\n",
       "      <th>route_id</th>\n",
       "      <th>service_id</th>\n",
       "      <th>trip_headsign</th>\n",
       "      <th>direction_id</th>\n",
       "    </tr>\n",
       "  </thead>\n",
       "  <tbody>\n",
       "    <tr>\n",
       "      <th>0</th>\n",
       "      <td>698920</td>\n",
       "      <td>01</td>\n",
       "      <td>13105100</td>\n",
       "      <td>01 CAMPBELL CENTER</td>\n",
       "      <td>0</td>\n",
       "    </tr>\n",
       "    <tr>\n",
       "      <th>1</th>\n",
       "      <td>698921</td>\n",
       "      <td>01</td>\n",
       "      <td>13105100</td>\n",
       "      <td>01 EUGENE STATION</td>\n",
       "      <td>1</td>\n",
       "    </tr>\n",
       "    <tr>\n",
       "      <th>2</th>\n",
       "      <td>698944</td>\n",
       "      <td>01</td>\n",
       "      <td>13105100</td>\n",
       "      <td>01 CAMPBELL CENTER</td>\n",
       "      <td>0</td>\n",
       "    </tr>\n",
       "    <tr>\n",
       "      <th>3</th>\n",
       "      <td>698945</td>\n",
       "      <td>01</td>\n",
       "      <td>13105100</td>\n",
       "      <td>01 EUGENE STATION</td>\n",
       "      <td>1</td>\n",
       "    </tr>\n",
       "    <tr>\n",
       "      <th>4</th>\n",
       "      <td>698962</td>\n",
       "      <td>01</td>\n",
       "      <td>13105100</td>\n",
       "      <td>01 CAMPBELL CENTER</td>\n",
       "      <td>0</td>\n",
       "    </tr>\n",
       "  </tbody>\n",
       "</table>\n",
       "</div>"
      ],
      "text/plain": [
       "   trip_id route_id  service_id       trip_headsign  direction_id\n",
       "0   698920       01    13105100  01 CAMPBELL CENTER             0\n",
       "1   698921       01    13105100   01 EUGENE STATION             1\n",
       "2   698944       01    13105100  01 CAMPBELL CENTER             0\n",
       "3   698945       01    13105100   01 EUGENE STATION             1\n",
       "4   698962       01    13105100  01 CAMPBELL CENTER             0"
      ]
     },
     "execution_count": 78,
     "metadata": {},
     "output_type": "execute_result"
    }
   ],
   "source": [
    "# Test dataframe\n",
    "trips.head()"
   ]
  },
  {
   "cell_type": "code",
   "execution_count": 79,
   "metadata": {},
   "outputs": [
    {
     "data": {
      "text/plain": [
       "[(698920, '01', 13105100, '01 CAMPBELL CENTER', 0),\n",
       " (698921, '01', 13105100, '01 EUGENE STATION', 1),\n",
       " (698944, '01', 13105100, '01 CAMPBELL CENTER', 0),\n",
       " (698945, '01', 13105100, '01 EUGENE STATION', 1),\n",
       " (698962, '01', 13105100, '01 CAMPBELL CENTER', 0)]"
      ]
     },
     "execution_count": 79,
     "metadata": {},
     "output_type": "execute_result"
    }
   ],
   "source": [
    "# Check data in database\n",
    "c.execute('''SELECT * FROM trips LIMIT 5''').fetchall()"
   ]
  },
  {
   "cell_type": "code",
   "execution_count": 83,
   "metadata": {},
   "outputs": [
    {
     "name": "stdout",
     "output_type": "stream",
     "text": [
      "13205200\n",
      "108\n",
      "<class 'list'>\n"
     ]
    }
   ],
   "source": [
    "# Make a useful query from the database\n",
    "# Retrieve all trips for a given route_id and service_id\n",
    "\n",
    "# Get the service_id for Sunday, 20230528\n",
    "sunday = c.execute('''SELECT \"service_id\" FROM \"calendar_dates\" WHERE \"date\" = \"20230528\"''').fetchall()\n",
    "sunday_svc = sunday[0][0]\n",
    "print (sunday_svc)\n",
    "\n",
    "# Get all trips for route_id 103 where service_id=sunday_svc\n",
    "emx_sun_trips = c.execute('''SELECT \"trip_id\" FROM \"trips\" WHERE \"route_id\" = \"103\" AND \"service_id\" = ?''', (sunday_svc,)).fetchall()\n",
    "# emx_sun_trips_2 = c.execute('''SELECT \"trip_id\" FROM \"trips\" WHERE \"route_id\" = \"103\" AND \"service_id\" = \"13205200\" LIMIT 5''').fetchall()\n",
    "\n",
    "# print (emx_sun_trips)\n",
    "print (len(emx_sun_trips))\n",
    "print (type(emx_sun_trips))"
   ]
  },
  {
   "cell_type": "code",
   "execution_count": 84,
   "metadata": {},
   "outputs": [
    {
     "name": "stdout",
     "output_type": "stream",
     "text": [
      "108\n",
      "<class 'list'>\n"
     ]
    }
   ],
   "source": [
    "triplist = list(map(lambda x:x[0], emx_sun_trips))\n",
    "print (len(triplist))\n",
    "print (type(triplist))"
   ]
  },
  {
   "attachments": {},
   "cell_type": "markdown",
   "metadata": {},
   "source": [
    "### Stop times file\n",
    "\n",
    "Lists every time for every stop on every schedule. It's huge.\n",
    "\n",
    "Eliminating untimed stops reduces it to 48,235 entries."
   ]
  },
  {
   "cell_type": "code",
   "execution_count": 74,
   "metadata": {},
   "outputs": [
    {
     "data": {
      "text/plain": [
       "48235"
      ]
     },
     "execution_count": 74,
     "metadata": {},
     "output_type": "execute_result"
    }
   ],
   "source": [
    "# Load the CSV file into a dataframe\n",
    "stop_times = pd.read_csv('stop_times.txt')\n",
    "# Remove rows with empty departure_time\n",
    "stop_times = stop_times[stop_times[\"timepoint\"] == 1]\n",
    "fields_to_keep = ['trip_id', 'departure_time', 'stop_id']\n",
    "stop_times = stop_times[fields_to_keep]\n",
    "# Write the data to a sqlite table\n",
    "stop_times.to_sql('stop_times', conn, if_exists='replace')"
   ]
  },
  {
   "cell_type": "code",
   "execution_count": 75,
   "metadata": {},
   "outputs": [
    {
     "data": {
      "text/html": [
       "<div>\n",
       "<style scoped>\n",
       "    .dataframe tbody tr th:only-of-type {\n",
       "        vertical-align: middle;\n",
       "    }\n",
       "\n",
       "    .dataframe tbody tr th {\n",
       "        vertical-align: top;\n",
       "    }\n",
       "\n",
       "    .dataframe thead th {\n",
       "        text-align: right;\n",
       "    }\n",
       "</style>\n",
       "<table border=\"1\" class=\"dataframe\">\n",
       "  <thead>\n",
       "    <tr style=\"text-align: right;\">\n",
       "      <th></th>\n",
       "      <th>trip_id</th>\n",
       "      <th>departure_time</th>\n",
       "      <th>stop_id</th>\n",
       "    </tr>\n",
       "  </thead>\n",
       "  <tbody>\n",
       "    <tr>\n",
       "      <th>0</th>\n",
       "      <td>698915</td>\n",
       "      <td>06:31:00</td>\n",
       "      <td>09011</td>\n",
       "    </tr>\n",
       "    <tr>\n",
       "      <th>1</th>\n",
       "      <td>698915</td>\n",
       "      <td>06:37:00</td>\n",
       "      <td>09240</td>\n",
       "    </tr>\n",
       "    <tr>\n",
       "      <th>2</th>\n",
       "      <td>698915</td>\n",
       "      <td>06:49:00</td>\n",
       "      <td>09236</td>\n",
       "    </tr>\n",
       "    <tr>\n",
       "      <th>4</th>\n",
       "      <td>698915</td>\n",
       "      <td>06:56:00</td>\n",
       "      <td>01806</td>\n",
       "    </tr>\n",
       "    <tr>\n",
       "      <th>6</th>\n",
       "      <td>698915</td>\n",
       "      <td>07:06:00</td>\n",
       "      <td>02305</td>\n",
       "    </tr>\n",
       "  </tbody>\n",
       "</table>\n",
       "</div>"
      ],
      "text/plain": [
       "   trip_id departure_time stop_id\n",
       "0   698915       06:31:00   09011\n",
       "1   698915       06:37:00   09240\n",
       "2   698915       06:49:00   09236\n",
       "4   698915       06:56:00   01806\n",
       "6   698915       07:06:00   02305"
      ]
     },
     "execution_count": 75,
     "metadata": {},
     "output_type": "execute_result"
    }
   ],
   "source": [
    "# Test dataframe\n",
    "stop_times.head()"
   ]
  },
  {
   "cell_type": "code",
   "execution_count": 76,
   "metadata": {},
   "outputs": [
    {
     "data": {
      "text/plain": [
       "[(0, 698915, '06:31:00', '09011'),\n",
       " (1, 698915, '06:37:00', '09240'),\n",
       " (2, 698915, '06:49:00', '09236'),\n",
       " (4, 698915, '06:56:00', '01806'),\n",
       " (6, 698915, '07:06:00', '02305')]"
      ]
     },
     "execution_count": 76,
     "metadata": {},
     "output_type": "execute_result"
    }
   ],
   "source": [
    "# Test database table\n",
    "c.execute('''SELECT * FROM stop_times LIMIT 5''').fetchall()"
   ]
  },
  {
   "cell_type": "code",
   "execution_count": 223,
   "metadata": {},
   "outputs": [
    {
     "name": "stdout",
     "output_type": "stream",
     "text": [
      "<class 'list'>\n",
      "108\n",
      "<class 'int'>\n"
     ]
    }
   ],
   "source": [
    "print(type(triplist))\n",
    "print(len(triplist))\n",
    "print(type(triplist[0]))"
   ]
  },
  {
   "cell_type": "code",
   "execution_count": 219,
   "metadata": {},
   "outputs": [
    {
     "name": "stdout",
     "output_type": "stream",
     "text": [
      "108  buses leave from station 02507\n",
      "52 of those buses are scheduled for today\n",
      "<class 'list'>\n"
     ]
    }
   ],
   "source": [
    "# Create a useful query from the database\n",
    "# Retrieve all departure times for a given stop_id and all trips in triplist\n",
    "\n",
    "my_stop_id = \"02507\"\n",
    "my_trips = tuple(triplist)\n",
    "print (len(my_trips), \" buses leave from station\", my_stop_id)\n",
    "departure_times = c.execute('''\n",
    "  SELECT \"departure_time\"\n",
    "  FROM \"stop_times\"\n",
    "  WHERE \"stop_id\" = ?\n",
    "  AND \"trip_id\" IN {}\n",
    "  ORDER BY \"departure_time\"'''.format(my_trips),\n",
    "  (my_stop_id,)).fetchall()\n",
    "print (len(departure_times), \"of those buses are scheduled for today\")\n",
    "print (type(departure_times))"
   ]
  },
  {
   "cell_type": "code",
   "execution_count": 220,
   "metadata": {},
   "outputs": [
    {
     "name": "stdout",
     "output_type": "stream",
     "text": [
      "['08:10:00', '08:25:00', '08:40:00', '08:55:00', '09:08:00', '09:24:00', '09:39:00', '09:55:00', '10:10:00', '10:25:00', '10:40:00', '10:55:00', '11:10:00', '11:25:00', '11:40:00', '11:56:00', '12:11:00', '12:26:00', '12:41:00', '12:56:00', '13:11:00', '13:26:00', '13:41:00', '13:56:00', '14:11:00', '14:26:00', '14:41:00', '14:56:00', '15:11:00', '15:26:00', '15:41:00', '15:56:00', '16:11:00', '16:26:00', '16:41:00', '16:56:00', '17:11:00', '17:26:00', '17:41:00', '17:56:00', '18:11:00', '18:26:00', '18:41:00', '18:55:00', '19:10:00', '19:25:00', '19:40:00', '19:55:00', '20:09:00', '20:24:00', '20:39:00', '20:54:00']\n"
     ]
    }
   ],
   "source": [
    "departure_times = list(map(lambda x:x[0], departure_times))\n",
    "print (departure_times)"
   ]
  },
  {
   "attachments": {},
   "cell_type": "markdown",
   "metadata": {},
   "source": [
    "## Reading the data"
   ]
  },
  {
   "cell_type": "code",
   "execution_count": 390,
   "metadata": {},
   "outputs": [],
   "source": [
    "# Get a list of departure times for a given stop_id, route_id, and service_id\n",
    "def get_dep_times(stop_id, route_id, service_id):\n",
    "    # Get all trips for route_id and service_id\n",
    "    trips = c.execute('''SELECT \"trip_id\" FROM \"trips\" WHERE \"route_id\" = ? AND \"service_id\" = ?''', (route_id, service_id)).fetchall()\n",
    "    # Convert list of tuples to list of strings\n",
    "    trips = list(map(lambda x:x[0], trips))\n",
    "    # Get all departure times for stop_id and trips\n",
    "    departure_times = c.execute('''\n",
    "      SELECT \"departure_time\"\n",
    "      FROM \"stop_times\"\n",
    "      WHERE \"stop_id\" = ?\n",
    "      AND \"trip_id\" IN {}\n",
    "      ORDER BY \"stop_times\"'''.format(tuple(trips)),\n",
    "      (stop_id,)).fetchall()\n",
    "    # Convert list of tuples to list of strings\n",
    "    departure_times = list(map(lambda x:x[0], departure_times))\n",
    "    # Sort the departure times alphabetically\n",
    "    departure_times.sort()\n",
    "    return departure_times"
   ]
  },
  {
   "cell_type": "code",
   "execution_count": 391,
   "metadata": {},
   "outputs": [
    {
     "name": "stdout",
     "output_type": "stream",
     "text": [
      "64 Saturday trips\n",
      "52 Sunday trips\n",
      "75 weekday trips\n"
     ]
    }
   ],
   "source": [
    "spfld_sat_times = get_dep_times(\"02507\", \"103\", \"13205100\")\n",
    "print (len(spfld_sat_times), \"Saturday trips\")\n",
    "spfld_sun_times = get_dep_times(\"02507\", \"103\", \"13205200\")\n",
    "print (len(spfld_sun_times), \"Sunday trips\")\n",
    "spfld_wkdy_times = get_dep_times(\"02507\", \"103\", \"13205300\")\n",
    "print (len(spfld_wkdy_times), \"weekday trips\")"
   ]
  },
  {
   "cell_type": "code",
   "execution_count": 371,
   "metadata": {},
   "outputs": [
    {
     "name": "stdout",
     "output_type": "stream",
     "text": [
      "['06:12:00', '06:21:00', '06:41:00', '06:55:00', '07:06:00', '07:12:00', '07:26:00', '07:37:00', '07:44:00', '07:58:00', '08:08:00', '08:18:00', '08:28:00', '08:38:00', '08:48:00', '08:58:00', '09:07:00', '09:17:00', '09:27:00', '09:36:00', '09:47:00', '09:56:00', '10:07:00', '10:16:00', '10:27:00', '10:41:00', '10:57:00', '11:11:00', '11:27:00', '11:41:00', '11:57:00', '12:11:00', '12:27:00', '12:41:00', '12:57:00', '13:12:00', '13:28:00', '13:43:00', '13:58:00', '14:13:00', '14:28:00', '14:43:00', '14:58:00', '15:13:00', '15:28:00', '15:43:00', '15:57:00', '16:12:00', '16:27:00', '16:42:00', '16:57:00', '17:12:00', '17:27:00', '17:42:00', '17:58:00', '18:13:00', '18:27:00', '18:42:00', '18:57:00', '19:11:00', '19:25:00', '19:40:00', '19:55:00', '20:09:00', '20:25:00', '20:39:00', '20:55:00', '21:09:00', '21:25:00', '21:39:00', '21:55:00', '22:09:00', '22:25:00', '22:54:00', '23:24:00']\n"
     ]
    }
   ],
   "source": [
    "print(spfld_wkdy_times)\n",
    "# missing 13:35, 14:50, 15:05, 15:20, ... 17:34?\n",
    "# Beginning and end of day are OK. Some routes are shorter in\n",
    "# the middle of the day and aren't counted."
   ]
  },
  {
   "attachments": {},
   "cell_type": "markdown",
   "metadata": {},
   "source": [
    "### Add a function to display time until next bus"
   ]
  },
  {
   "cell_type": "code",
   "execution_count": 372,
   "metadata": {},
   "outputs": [],
   "source": [
    "# Get time remaining until next departure\n",
    "import datetime\n",
    "def get_time_remaining(departure_times):\n",
    "    # Get current time\n",
    "    now = datetime.datetime.now()\n",
    "    # Convert current time to seconds since midnight\n",
    "    now_seconds = now.hour*3600 + now.minute*60 + now.second\n",
    "    # Convert departure times to seconds since midnight\n",
    "    departure_seconds = list(map(lambda x:int(x[0:2])*3600 + int(x[3:5])*60 + int(x[6:8]), departure_times))\n",
    "    # Find the first departure time that is greater than now_seconds\n",
    "    for departure in departure_seconds:\n",
    "        if departure > now_seconds:\n",
    "            break\n",
    "    # Calculate time remaining in seconds\n",
    "    time_remaining = departure - now_seconds\n",
    "    # Convert time remaining to minutes and seconds\n",
    "    minutes_remaining = time_remaining // 60\n",
    "    seconds_remaining = time_remaining % 60\n",
    "    # Return time remaining as a string\n",
    "    return str(minutes_remaining) + \":\" + str(seconds_remaining).zfill(2)"
   ]
  },
  {
   "cell_type": "code",
   "execution_count": 373,
   "metadata": {},
   "outputs": [
    {
     "data": {
      "text/plain": [
       "'3:09'"
      ]
     },
     "execution_count": 373,
     "metadata": {},
     "output_type": "execute_result"
    }
   ],
   "source": [
    "# Test the time remaining function\n",
    "get_time_remaining(spfld_wkdy_times)"
   ]
  },
  {
   "cell_type": "code",
   "execution_count": 363,
   "metadata": {},
   "outputs": [],
   "source": [
    "# Function to get all remaining departure times\n",
    "def get_all_times_remaining(departure_times):\n",
    "    # Get current time\n",
    "    now = datetime.datetime.now()\n",
    "    # Convert current time to seconds since midnight\n",
    "    now_seconds = now.hour*3600 + now.minute*60 + now.second\n",
    "    # Convert departure times to seconds since midnight\n",
    "    departure_seconds = list(map(lambda x:int(x[0:2])*3600 + int(x[3:5])*60 + int(x[6:8]), departure_times))\n",
    "    # find the index of the first departure time that is greater than now_seconds\n",
    "    for i, departure in enumerate(departure_seconds):\n",
    "        if departure > now_seconds:\n",
    "            break\n",
    "    # Get all departure times that are greater than now_seconds\n",
    "    # The index should be the same for both lists\n",
    "    remaining_departures = departure_times[i:]\n",
    "    return remaining_departures\n"
   ]
  },
  {
   "cell_type": "code",
   "execution_count": 374,
   "metadata": {},
   "outputs": [
    {
     "data": {
      "text/plain": [
       "['11:41:00',\n",
       " '11:57:00',\n",
       " '12:11:00',\n",
       " '12:27:00',\n",
       " '12:41:00',\n",
       " '12:57:00',\n",
       " '13:12:00',\n",
       " '13:28:00',\n",
       " '13:43:00',\n",
       " '13:58:00',\n",
       " '14:13:00',\n",
       " '14:28:00',\n",
       " '14:43:00',\n",
       " '14:58:00',\n",
       " '15:13:00',\n",
       " '15:28:00',\n",
       " '15:43:00',\n",
       " '15:57:00',\n",
       " '16:12:00',\n",
       " '16:27:00',\n",
       " '16:42:00',\n",
       " '16:57:00',\n",
       " '17:12:00',\n",
       " '17:27:00',\n",
       " '17:42:00',\n",
       " '17:58:00',\n",
       " '18:13:00',\n",
       " '18:27:00',\n",
       " '18:42:00',\n",
       " '18:57:00',\n",
       " '19:11:00',\n",
       " '19:25:00',\n",
       " '19:40:00',\n",
       " '19:55:00',\n",
       " '20:09:00',\n",
       " '20:25:00',\n",
       " '20:39:00',\n",
       " '20:55:00',\n",
       " '21:09:00',\n",
       " '21:25:00',\n",
       " '21:39:00',\n",
       " '21:55:00',\n",
       " '22:09:00',\n",
       " '22:25:00',\n",
       " '22:54:00',\n",
       " '23:24:00']"
      ]
     },
     "execution_count": 374,
     "metadata": {},
     "output_type": "execute_result"
    }
   ],
   "source": [
    "get_all_times_remaining(spfld_wkdy_times)"
   ]
  },
  {
   "cell_type": "code",
   "execution_count": 375,
   "metadata": {},
   "outputs": [],
   "source": [
    "def get_bus_status(departure_times):\n",
    "    # Get current time\n",
    "    now = datetime.datetime.now()\n",
    "    # Convert current time to seconds since midnight\n",
    "    now_seconds = now.hour*3600 + now.minute*60 + now.second\n",
    "    # Convert departure times to seconds since midnight\n",
    "    departure_seconds = list(map(lambda x:int(x[0:2])*3600 + int(x[3:5])*60 + int(x[6:8]), departure_times))\n",
    "    # Find the first departure time that is greater than now_seconds\n",
    "    for departure in departure_seconds:\n",
    "        if departure > now_seconds:\n",
    "            break\n",
    "    # Calculate time remaining in seconds\n",
    "    time_remaining = departure - now_seconds\n",
    "    # Convert time remaining to minutes and seconds\n",
    "    minutes_remaining = time_remaining // 60\n",
    "    seconds_remaining = time_remaining % 60\n",
    "    # Return time remaining as a string\n",
    "    if minutes_remaining < 1:\n",
    "        return \"DUE\"\n",
    "    else:\n",
    "        return str(minutes_remaining) + \":\" + str(seconds_remaining).zfill(2)"
   ]
  },
  {
   "cell_type": "code",
   "execution_count": 376,
   "metadata": {},
   "outputs": [
    {
     "data": {
      "text/plain": [
       "'2:28'"
      ]
     },
     "execution_count": 376,
     "metadata": {},
     "output_type": "execute_result"
    }
   ],
   "source": [
    "# Test the bus status function\n",
    "get_bus_status(spfld_wkdy_times)"
   ]
  },
  {
   "cell_type": "code",
   "execution_count": 126,
   "metadata": {},
   "outputs": [
    {
     "name": "stdout",
     "output_type": "stream",
     "text": [
      "[1, 2, 3]\n",
      "5\n",
      "[1, 2, 3, 4, 5]\n"
     ]
    }
   ],
   "source": [
    "# Testing list slicing\n",
    "my_list = [1,2,3,4,5]\n",
    "# Get first 3 elements\n",
    "print(my_list[:3])\n",
    "# Get last element\n",
    "print(my_list[-1])\n",
    "# first next 7 elements\n",
    "print(my_list[:7])"
   ]
  },
  {
   "attachments": {},
   "cell_type": "markdown",
   "metadata": {},
   "source": [
    "Some utility functions to use when calculating times. Use these in the functions above, as well."
   ]
  },
  {
   "cell_type": "code",
   "execution_count": 377,
   "metadata": {},
   "outputs": [],
   "source": [
    "# Convert a time in the format of \"hh:mm:ss\" to seconds past midnight\n",
    "def tod_to_seconds(time_of_day):\n",
    "    return int(time_of_day[0:2])*3600 + int(time_of_day[3:5])*60 + int(time_of_day[6:8])\n",
    "\n",
    "# Convert current time to seconds past midnight\n",
    "def now_to_seconds():\n",
    "    # Get current time\n",
    "    now = datetime.datetime.now()\n",
    "    # Convert current time to seconds since midnight\n",
    "    return now.hour*3600 + now.minute*60 + now.second\n",
    "\n",
    "# Find remaining (h):mm:ss until a time in the format of \"hh:mm:ss\"\n",
    "def tod_to_time_remaining(time_of_day, overflow_to_hours=True):\n",
    "    tod_seconds = tod_to_seconds(time_of_day)\n",
    "    now_seconds = now_to_seconds()\n",
    "    seconds_remaining = tod_seconds - now_seconds\n",
    "    # Convert time remaining to minutes and seconds\n",
    "    minutes_remaining = seconds_remaining // 60\n",
    "    seconds_remaining = str(seconds_remaining % 60).zfill(2)\n",
    "    if minutes_remaining < 1:\n",
    "        return \"DUE\"\n",
    "    # If overflow_to_hours is True, return hours:minutes:seconds\n",
    "    hours_remaining = \"\"\n",
    "    if overflow_to_hours == True:\n",
    "        hours_remaining = minutes_remaining // 60\n",
    "        minutes_remaining = str(minutes_remaining % 60).zfill(2)\n",
    "        if hours_remaining > 0:\n",
    "            hours_remaining = str(hours_remaining) + \":\"\n",
    "        else:\n",
    "            hours_remaining = \"\"\n",
    "    else: minutes_remaining = str(minutes_remaining)\n",
    "    # Return time remaining as a string\n",
    "    # print (type(hours_remaining), type(minutes_remaining), type(seconds_remaining))\n",
    "    return hours_remaining + minutes_remaining + \":\" + seconds_remaining\n",
    "    "
   ]
  },
  {
   "cell_type": "code",
   "execution_count": 378,
   "metadata": {},
   "outputs": [
    {
     "data": {
      "text/plain": [
       "'11:33:12'"
      ]
     },
     "execution_count": 378,
     "metadata": {},
     "output_type": "execute_result"
    }
   ],
   "source": [
    "tod_to_time_remaining(\"23:12:00\")"
   ]
  },
  {
   "cell_type": "code",
   "execution_count": 351,
   "metadata": {},
   "outputs": [
    {
     "name": "stdout",
     "output_type": "stream",
     "text": [
      "43200\n",
      "86399\n",
      "0\n",
      "1\n",
      "86401\n"
     ]
    }
   ],
   "source": [
    "# Test the time conversion function\n",
    "# 12:00:00 should be 43200 seconds past midnight\n",
    "# 23:59:59 should be 86399 seconds past midnight\n",
    "# 00:00:00 should be 0 seconds past midnight\n",
    "# 00:00:01 should be 1 second past midnight\n",
    "# 24:00:01 should be 86401 seconds past midnight\n",
    "print(tod_to_seconds(\"12:00:00\"))\n",
    "print(tod_to_seconds(\"23:59:59\"))\n",
    "print(tod_to_seconds(\"00:00:00\"))\n",
    "print(tod_to_seconds(\"00:00:01\"))\n",
    "print(tod_to_seconds(\"24:00:01\"))"
   ]
  },
  {
   "cell_type": "code",
   "execution_count": 379,
   "metadata": {},
   "outputs": [],
   "source": [
    "def get_departure_info(departure_times):\n",
    "    next_departures = departure_times[0:3]\n",
    "    last_departure = departure_times[-1]\n",
    "    next_diffs = [tod_to_time_remaining(x) for x in next_departures]\n",
    "    last_diff = tod_to_time_remaining(last_departure)\n",
    "\n",
    "    print(f\"Next {len(next_departures)} departures:\")\n",
    "    for i, departure in enumerate(next_departures):\n",
    "        print(departure + \" (\" + next_diffs[i] + \")\")\n",
    "    print(\"Last departure:\")\n",
    "    print(last_departure + \" (\" + last_diff + \")\")\n"
   ]
  },
  {
   "cell_type": "code",
   "execution_count": 380,
   "metadata": {},
   "outputs": [
    {
     "name": "stdout",
     "output_type": "stream",
     "text": [
      "Next 3 departures:\n",
      "11:40:00 (DUE)\n",
      "11:56:00 (16:14)\n",
      "12:11:00 (31:14)\n",
      "Last departure:\n",
      "23:23:00 (11:43:14)\n"
     ]
    }
   ],
   "source": [
    "# Test the departure info function\n",
    "get_departure_info(get_all_times_remaining(spfld_sat_times))"
   ]
  },
  {
   "cell_type": "code",
   "execution_count": 381,
   "metadata": {},
   "outputs": [],
   "source": [
    "# Get all service_ids for a given date\n",
    "def get_service_ids(date):\n",
    "    service_ids = c.execute(\"SELECT service_id FROM calendar_dates WHERE date = ?\", (date,)).fetchall()\n",
    "    # Convert list of tuples to list of strings\n",
    "    return list(map(lambda x:x[0], service_ids))"
   ]
  },
  {
   "cell_type": "code",
   "execution_count": 353,
   "metadata": {},
   "outputs": [
    {
     "name": "stdout",
     "output_type": "stream",
     "text": [
      "[13205300, 13205304]\n"
     ]
    }
   ],
   "source": [
    "schedules_in_use = get_service_ids(\"20230605\")\n",
    "# Convert list of tuples to list of strings\n",
    "print(schedules_in_use)"
   ]
  },
  {
   "cell_type": "code",
   "execution_count": 382,
   "metadata": {},
   "outputs": [],
   "source": [
    "# Get all departure times for a stop on a given date\n",
    "def get_departure_times(route_id, stop_id, date):\n",
    "    # Get all service_ids for the given date\n",
    "    service_ids = get_service_ids(date)\n",
    "    print (\"Found\", len(service_ids), \"service_ids for\", date)\n",
    "    # Get all departure times\n",
    "    stop_times = c.execute(\"SELECT departure_time FROM stop_times WHERE stop_id = ? AND service_id IN ({seq})\".format(seq=','.join(['?']*len(service_ids))), [stop_id] + service_ids).fetchall()\n",
    "    # Convert list of tuples to list of strings\n",
    "    stop_times = list(map(lambda x:x[0], stop_times))\n",
    "    # Sort the stop_times\n",
    "    stop_times.sort()\n",
    "    return stop_times"
   ]
  },
  {
   "cell_type": "code",
   "execution_count": 384,
   "metadata": {},
   "outputs": [
    {
     "name": "stdout",
     "output_type": "stream",
     "text": [
      "Found 2 service_ids for 20230612\n",
      "['06:12:00', '06:21:00', '06:41:00', '06:55:00', '07:06:00', '07:12:00', '07:26:00', '07:37:00', '07:44:00', '07:58:00', '08:08:00', '08:18:00', '08:28:00', '08:38:00', '08:48:00', '08:58:00', '09:07:00', '09:17:00', '09:27:00', '09:36:00', '09:47:00', '09:56:00', '10:07:00', '10:16:00', '10:27:00', '10:41:00', '10:57:00', '11:11:00', '11:27:00', '11:41:00', '11:57:00', '12:11:00', '12:27:00', '12:41:00', '12:57:00', '13:12:00', '13:28:00', '13:43:00', '13:58:00', '14:13:00', '14:28:00', '14:43:00', '14:58:00', '15:13:00', '15:28:00', '15:43:00', '15:57:00', '16:12:00', '16:27:00', '16:42:00', '16:57:00', '17:12:00', '17:27:00', '17:42:00', '17:58:00', '18:13:00', '18:27:00', '18:42:00', '18:57:00', '19:11:00', '19:25:00', '19:40:00', '19:55:00', '20:09:00', '20:25:00', '20:39:00', '20:55:00', '21:09:00', '21:25:00', '21:39:00', '21:55:00', '22:09:00', '22:25:00', '22:54:00', '23:24:00']\n"
     ]
    }
   ],
   "source": [
    "print(get_departure_times(\"103\", \"02507\", 20230612))\n",
    "# print(get_departure_times(\"91\", \"02107\", 20230610))"
   ]
  },
  {
   "cell_type": "code",
   "execution_count": 385,
   "metadata": {},
   "outputs": [],
   "source": [
    "def show_display_board(route_id, stop_id, date):\n",
    "    all_departure_times = get_departure_times(route_id, stop_id, date)\n",
    "    if (all_departure_times == []):\n",
    "        print(\"No departures found for\", route_id, \"at\", stop_id, \"on\", date)\n",
    "        return\n",
    "    remaining_departure_times = get_all_times_remaining(all_departure_times)\n",
    "    next_departures = remaining_departure_times[0:3]\n",
    "    last_departure = remaining_departure_times[-1]\n",
    "    next_diffs = [tod_to_time_remaining(x) for x in next_departures]\n",
    "    last_diff = tod_to_time_remaining(last_departure)\n",
    "\n",
    "    print(f\"Next {len(next_departures)} departures:\")\n",
    "    for i, departure in enumerate(next_departures):\n",
    "        print(departure + \" (\" + next_diffs[i] + \")\")\n",
    "    print(\"Last departure:\")\n",
    "    print(last_departure + \" (\" + last_diff + \")\")"
   ]
  },
  {
   "cell_type": "code",
   "execution_count": 388,
   "metadata": {},
   "outputs": [
    {
     "name": "stdout",
     "output_type": "stream",
     "text": [
      "Found 2 service_ids for 20230608\n",
      "Next 3 departures:\n",
      "11:57:00 (04:41)\n",
      "12:11:00 (18:41)\n",
      "12:27:00 (34:41)\n",
      "Last departure:\n",
      "23:24:00 (11:31:41)\n"
     ]
    }
   ],
   "source": [
    "spfld_to_eug_stop_id = \"02507\" # Bay G\n",
    "eug_to_spfld_stop_id = \"02121\" # Bay U\n",
    "eug_to_242_stop_id = \"02107\"  # Bay G\n",
    "ranger_station_stop_id = \"09083\"\n",
    "agate_inbound_stop_id = \"09965\"\n",
    "agate_outbound_stop_id = \"09904\"\n",
    "\n",
    "show_display_board(103, spfld_to_eug_stop_id, 20230608)\n",
    "# show_display_board(103, eug_to_spfld_stop_id, 20230608)\n",
    "# show_display_board(91, eug_to_242_stop_id, 20230610)\n",
    "# show_display_board(91, ranger_station_stop_id, 20230611)\n"
   ]
  },
  {
   "attachments": {},
   "cell_type": "markdown",
   "metadata": {},
   "source": [
    "### Close the database\n",
    "\n",
    "Clean up loose ends when we finish"
   ]
  },
  {
   "cell_type": "code",
   "execution_count": 36,
   "metadata": {},
   "outputs": [],
   "source": [
    "conn.close()"
   ]
  },
  {
   "attachments": {},
   "cell_type": "markdown",
   "metadata": {},
   "source": [
    "\n",
    "---\n",
    "\n",
    "Test a connection to Postgres instead"
   ]
  },
  {
   "cell_type": "code",
   "execution_count": 275,
   "metadata": {},
   "outputs": [],
   "source": [
    "# Connect to the database\n",
    "# import psycopg2\n",
    "\n",
    "# conn = psycopg2.connect(database=\"ltd\",\n",
    "#                         host=\"localhost\",\n",
    "#                         user=\"postgres\",\n",
    "#                         password=\"\",\n",
    "#                         port=\"5432\")"
   ]
  },
  {
   "cell_type": "code",
   "execution_count": 284,
   "metadata": {},
   "outputs": [
    {
     "name": "stdout",
     "output_type": "stream",
     "text": [
      "['02107', '01776', '09171', '09026', '09035', '09047', '09055', '09061', '09065', '09077', '09083', '09078', '09066', '09062', '09056', '09048', '09036', '09001', '09021', '00019', 'escenter', '01067', '02501']\n",
      "[('N/S of Main W of 58th',), ('S/S of Franklin Blvd E of Onyx',), ('Thurston Sta, Bay B (outb.)',), ('Eugene Station, Bay G',), ('Springfield Station, Bay A',), ('N/S of Hwy 126 (MP 12.7) E of Thriftway',), ('N/S of Hwy 126 (MP 9.7) E of Thurston Rd',), ('S/S of Hwy 126 (MP 12.7) E of Walterville',), ('S/S of Hwy 126 (MP 20.1) E of Mailbox 44895',), ('N/S of Hwy 126 (MP 20.0) E of Johnson Crk',), ('S/S of Hwy 126 (MP 26.4) W of Gate Creek Rd',), ('N/S of Hwy 126 (MP 26.4) E of Gate Creek Rd',), ('S/S of Hwy 126 (MP 34.5) W of Nimrod',), ('N/S of Hwy 126 (MP 34.6) E of Nimrod',), ('S/S of Hwy 126 (MP 38.0) W of Finn Rock Store',), ('N/S of Hwy 126 (MP 38.2) E of Finn Rock Store',), ('S/S of Blue Riv Dr E of McKenzie St',), ('N/S of Blue River Dr W of Dexter St',), ('S/S of Hwy126 (MP 50.3) W of McKenzie Bridge Store',), ('N/S of Hwy126 (MP 50.3) E of McKenzie Bridge Store',), ('S/S of Hwy 126 (MP 52.8) E of McKenzieRngrSta',), ('S/S of Hwy 126 (MP 9.0) W of Thurston Rd',), ('Eugene Sta central arrival zone',)]\n"
     ]
    }
   ],
   "source": [
    "# Find all stops on route 91\n",
    "# c = conn.cursor()\n",
    "stops_on_91 = c.execute(\"SELECT DISTINCT stop_id FROM stop_times WHERE trip_id IN (SELECT trip_id FROM trips WHERE route_id = '91')\").fetchall()\n",
    "# Convert list of tuples to list of strings\n",
    "stops_on_91 = list(map(lambda x:x[0], stops_on_91))\n",
    "print(stops_on_91)\n",
    "# Get all stop names for route 91\n",
    "stop_names_on_91 = c.execute(\"SELECT DISTINCT stop_name FROM stops WHERE stop_id IN ({seq})\".format(seq=','.join(['?']*len(stops_on_91))), stops_on_91).fetchall()\n",
    "print(stop_names_on_91)"
   ]
  },
  {
   "cell_type": "code",
   "execution_count": 301,
   "metadata": {},
   "outputs": [
    {
     "data": {
      "text/plain": [
       "<sqlite3.Cursor at 0x7fe3493c0180>"
      ]
     },
     "execution_count": 301,
     "metadata": {},
     "output_type": "execute_result"
    }
   ],
   "source": [
    "c.execute(\"DROP TABLE IF EXISTS dates\")"
   ]
  }
 ],
 "metadata": {
  "kernelspec": {
   "display_name": "Python 3",
   "language": "python",
   "name": "python3"
  },
  "language_info": {
   "codemirror_mode": {
    "name": "ipython",
    "version": 3
   },
   "file_extension": ".py",
   "mimetype": "text/x-python",
   "name": "python",
   "nbconvert_exporter": "python",
   "pygments_lexer": "ipython3",
   "version": "3.8.10"
  },
  "orig_nbformat": 4
 },
 "nbformat": 4,
 "nbformat_minor": 2
}
